{
 "cells": [
  {
   "cell_type": "code",
   "execution_count": 1,
   "metadata": {
    "colab": {},
    "colab_type": "code",
    "id": "rJgw7MszYP6p"
   },
   "outputs": [],
   "source": [
    "import pandas as pd\n",
    "import numpy as np\n",
    "from tqdm import tqdm\n",
    "import re\n",
    "\n",
    "pd.set_option('display.max_colwidth', 200)"
   ]
  },
  {
   "cell_type": "markdown",
   "metadata": {},
   "source": [
    "# Read Data and Clean it"
   ]
  },
  {
   "cell_type": "code",
   "execution_count": 2,
   "metadata": {
    "colab": {
     "base_uri": "https://localhost:8080/",
     "height": 1033
    },
    "colab_type": "code",
    "id": "jZNz18ZpY8xS",
    "outputId": "b6601b48-a208-434e-e191-f33d082f8edd"
   },
   "outputs": [
    {
     "data": {
      "text/html": [
       "<div>\n",
       "<style scoped>\n",
       "    .dataframe tbody tr th:only-of-type {\n",
       "        vertical-align: middle;\n",
       "    }\n",
       "\n",
       "    .dataframe tbody tr th {\n",
       "        vertical-align: top;\n",
       "    }\n",
       "\n",
       "    .dataframe thead th {\n",
       "        text-align: right;\n",
       "    }\n",
       "</style>\n",
       "<table border=\"1\" class=\"dataframe\">\n",
       "  <thead>\n",
       "    <tr style=\"text-align: right;\">\n",
       "      <th></th>\n",
       "      <th>converted_text</th>\n",
       "      <th>Complaint-Status</th>\n",
       "    </tr>\n",
       "  </thead>\n",
       "  <tbody>\n",
       "    <tr>\n",
       "      <th>0</th>\n",
       "      <td>Seterus, Inc. filed a false report with the major XXXX credit bureaus, stating that my XXXX 2015 mortgage was late when they were receiving full repayment of the loan on XXXX XXXX, 2015. It should...</td>\n",
       "      <td>Closed with explanation</td>\n",
       "    </tr>\n",
       "    <tr>\n",
       "      <th>1</th>\n",
       "      <td>XX / XX / XXXX Bankruptcy Claim XXXX of Chapter XXXX was filed in Hawaii and included the creditor XXXX XXXX for an unknown amount (Assumed $ 540.00 XXXX XX / XX / XXXX Chapter XXXX Bankruptcy Pai...</td>\n",
       "      <td>Closed with non-monetary relief</td>\n",
       "    </tr>\n",
       "    <tr>\n",
       "      <th>2</th>\n",
       "      <td>XXXX / XXXX / 15, I was preparing the flight back to XXXX (see XXXX) for the funeral of a close relative and I stayed in a hotel at the XXXX airport. Before leaving, I hired a dog sitter and her f...</td>\n",
       "      <td>Closed with explanation</td>\n",
       "    </tr>\n",
       "    <tr>\n",
       "      <th>3</th>\n",
       "      <td>The loan was paid in XXXX XXXX. In XXXX, 4 years after I moved from VA (I moved in XXXX XX / XX / XXXX-6 months after paying the debt), a representative XXXX XXXX XXXX contacted me suddenly, indic...</td>\n",
       "      <td>Closed with explanation</td>\n",
       "    </tr>\n",
       "    <tr>\n",
       "      <th>4</th>\n",
       "      <td>I got a care credit account for XXXX. Immediately after I was wrongly charged by another doctor, I contacted him to let me know, when he told me that I was responsible for this charge and that I h...</td>\n",
       "      <td>Closed with explanation</td>\n",
       "    </tr>\n",
       "  </tbody>\n",
       "</table>\n",
       "</div>"
      ],
      "text/plain": [
       "                                                                                                                                                                                            converted_text  \\\n",
       "0  Seterus, Inc. filed a false report with the major XXXX credit bureaus, stating that my XXXX 2015 mortgage was late when they were receiving full repayment of the loan on XXXX XXXX, 2015. It should...   \n",
       "1  XX / XX / XXXX Bankruptcy Claim XXXX of Chapter XXXX was filed in Hawaii and included the creditor XXXX XXXX for an unknown amount (Assumed $ 540.00 XXXX XX / XX / XXXX Chapter XXXX Bankruptcy Pai...   \n",
       "2  XXXX / XXXX / 15, I was preparing the flight back to XXXX (see XXXX) for the funeral of a close relative and I stayed in a hotel at the XXXX airport. Before leaving, I hired a dog sitter and her f...   \n",
       "3  The loan was paid in XXXX XXXX. In XXXX, 4 years after I moved from VA (I moved in XXXX XX / XX / XXXX-6 months after paying the debt), a representative XXXX XXXX XXXX contacted me suddenly, indic...   \n",
       "4  I got a care credit account for XXXX. Immediately after I was wrongly charged by another doctor, I contacted him to let me know, when he told me that I was responsible for this charge and that I h...   \n",
       "\n",
       "                  Complaint-Status  \n",
       "0          Closed with explanation  \n",
       "1  Closed with non-monetary relief  \n",
       "2          Closed with explanation  \n",
       "3          Closed with explanation  \n",
       "4          Closed with explanation  "
      ]
     },
     "execution_count": 2,
     "metadata": {},
     "output_type": "execute_result"
    }
   ],
   "source": [
    "train_path = 'data/converted_data_train.csv'\n",
    "test_path = 'data/converted_data_test.csv'\n",
    "\n",
    "train_df = pd.read_csv(train_path)[['converted_text', 'Complaint-Status']]\n",
    "test_df = pd.read_csv(test_path)[['converted_text']]\n",
    "train_df.head()"
   ]
  },
  {
   "cell_type": "code",
   "execution_count": 3,
   "metadata": {
    "colab": {
     "base_uri": "https://localhost:8080/",
     "height": 217
    },
    "colab_type": "code",
    "id": "idmQaWRWmk8_",
    "outputId": "c4669360-3433-481a-de91-e726b240f493"
   },
   "outputs": [
    {
     "data": {
      "text/plain": [
       "converted_text      object\n",
       "Complaint-Status    object\n",
       "dtype: object"
      ]
     },
     "execution_count": 3,
     "metadata": {},
     "output_type": "execute_result"
    }
   ],
   "source": [
    "train_df.dtypes"
   ]
  },
  {
   "cell_type": "code",
   "execution_count": 4,
   "metadata": {
    "colab": {},
    "colab_type": "code",
    "id": "mdzKUG9tY-oy"
   },
   "outputs": [],
   "source": [
    "train_df['clean_text'] = train_df['converted_text'].astype('str')\n",
    "train_df['clean_text'] = train_df['clean_text'].apply(lambda x: re.sub(r'http\\S+', '', x))\n",
    "train_df['clean_text'] = train_df['clean_text'].apply(lambda x: re.sub(r'X+', '', x))\n",
    "\n",
    "test_df['clean_text'] = test_df['converted_text'].astype('str')\n",
    "test_df['clean_text'] = test_df['clean_text'].apply(lambda x: re.sub(r'http\\S+', '', x))\n",
    "test_df['clean_text'] = test_df['clean_text'].apply(lambda x: re.sub(r'X+', '', x))"
   ]
  },
  {
   "cell_type": "code",
   "execution_count": 5,
   "metadata": {
    "colab": {},
    "colab_type": "code",
    "id": "4zVJXWcVmWYn"
   },
   "outputs": [],
   "source": [
    "punctuation = '!\"#$%&()*+-/:;<=>?@[\\\\]^_`{|}~,'\n",
    "\n",
    "train_df['clean_text'] = train_df['clean_text'].apply(lambda x: ''.join(ch for ch in x if ch not in set(punctuation)))\n",
    "test_df['clean_text'] = test_df['clean_text'].apply(lambda x: ''.join(ch for ch in x if ch not in set(punctuation)))\n",
    "\n",
    "train_df['clean_text'] = train_df['clean_text'].str.lower()\n",
    "test_df['clean_text'] = test_df['clean_text'].str.lower()\n",
    "\n",
    "train_df['clean_text'] = train_df['clean_text'].str.replace(\"[0-9]\", \" \")\n",
    "test_df['clean_text'] = test_df['clean_text'].str.replace(\"[0-9]\", \" \")\n",
    "\n",
    "train_df['clean_text'] = train_df['clean_text'].apply(lambda x:' '.join(x.split()))\n",
    "test_df['clean_text'] = test_df['clean_text'].apply(lambda x: ' '.join(x.split()))"
   ]
  },
  {
   "cell_type": "code",
   "execution_count": 6,
   "metadata": {
    "colab": {
     "base_uri": "https://localhost:8080/",
     "height": 364
    },
    "colab_type": "code",
    "id": "7iPUoGGRngme",
    "outputId": "f9c17d56-681e-4e95-ef5f-a681ada79634"
   },
   "outputs": [
    {
     "data": {
      "text/html": [
       "<div>\n",
       "<style scoped>\n",
       "    .dataframe tbody tr th:only-of-type {\n",
       "        vertical-align: middle;\n",
       "    }\n",
       "\n",
       "    .dataframe tbody tr th {\n",
       "        vertical-align: top;\n",
       "    }\n",
       "\n",
       "    .dataframe thead th {\n",
       "        text-align: right;\n",
       "    }\n",
       "</style>\n",
       "<table border=\"1\" class=\"dataframe\">\n",
       "  <thead>\n",
       "    <tr style=\"text-align: right;\">\n",
       "      <th></th>\n",
       "      <th>Complaint-Status</th>\n",
       "      <th>clean_text</th>\n",
       "    </tr>\n",
       "  </thead>\n",
       "  <tbody>\n",
       "    <tr>\n",
       "      <th>0</th>\n",
       "      <td>Closed with explanation</td>\n",
       "      <td>seterus inc. filed a false report with the major credit bureaus stating that my mortgage was late when they were receiving full repayment of the loan on . it should be noted that delay are not ass...</td>\n",
       "    </tr>\n",
       "    <tr>\n",
       "      <th>1</th>\n",
       "      <td>Closed with non-monetary relief</td>\n",
       "      <td>bankruptcy claim of chapter was filed in hawaii and included the creditor for an unknown amount assumed . chapter bankruptcy paid including</td>\n",
       "    </tr>\n",
       "    <tr>\n",
       "      <th>2</th>\n",
       "      <td>Closed with explanation</td>\n",
       "      <td>i was preparing the flight back to see for the funeral of a close relative and i stayed in a hotel at the airport. before leaving i hired a dog sitter and her friend who had referred me to people ...</td>\n",
       "    </tr>\n",
       "    <tr>\n",
       "      <th>3</th>\n",
       "      <td>Closed with explanation</td>\n",
       "      <td>the loan was paid in . in years after i moved from va i moved in months after paying the debt a representative contacted me suddenly indicating that my debt had not been paid and that i now owe th...</td>\n",
       "    </tr>\n",
       "    <tr>\n",
       "      <th>4</th>\n",
       "      <td>Closed with explanation</td>\n",
       "      <td>i got a care credit account for . immediately after i was wrongly charged by another doctor i contacted him to let me know when he told me that i was responsible for this charge and that i had to ...</td>\n",
       "    </tr>\n",
       "  </tbody>\n",
       "</table>\n",
       "</div>"
      ],
      "text/plain": [
       "                  Complaint-Status  \\\n",
       "0          Closed with explanation   \n",
       "1  Closed with non-monetary relief   \n",
       "2          Closed with explanation   \n",
       "3          Closed with explanation   \n",
       "4          Closed with explanation   \n",
       "\n",
       "                                                                                                                                                                                                clean_text  \n",
       "0  seterus inc. filed a false report with the major credit bureaus stating that my mortgage was late when they were receiving full repayment of the loan on . it should be noted that delay are not ass...  \n",
       "1                                                              bankruptcy claim of chapter was filed in hawaii and included the creditor for an unknown amount assumed . chapter bankruptcy paid including  \n",
       "2  i was preparing the flight back to see for the funeral of a close relative and i stayed in a hotel at the airport. before leaving i hired a dog sitter and her friend who had referred me to people ...  \n",
       "3  the loan was paid in . in years after i moved from va i moved in months after paying the debt a representative contacted me suddenly indicating that my debt had not been paid and that i now owe th...  \n",
       "4  i got a care credit account for . immediately after i was wrongly charged by another doctor i contacted him to let me know when he told me that i was responsible for this charge and that i had to ...  "
      ]
     },
     "execution_count": 6,
     "metadata": {},
     "output_type": "execute_result"
    }
   ],
   "source": [
    "del train_df['converted_text']\n",
    "del test_df['converted_text']\n",
    "\n",
    "train_df.head()"
   ]
  },
  {
   "cell_type": "code",
   "execution_count": 25,
   "metadata": {},
   "outputs": [],
   "source": [
    "train_df.to_csv('cleaned_data/train_data.csv', index=False)\n",
    "test_df.to_csv('cleaned_data/test_data.csv', index=False)"
   ]
  },
  {
   "cell_type": "markdown",
   "metadata": {},
   "source": [
    "# Get ELMO Embeddings for TRAIN data"
   ]
  },
  {
   "cell_type": "code",
   "execution_count": null,
   "metadata": {},
   "outputs": [],
   "source": [
    "import tensorflow_hub as hub\n",
    "import tensorflow as tf\n",
    "\n",
    "elmo = hub.Module(\"https://tfhub.dev/google/elmo/2\", trainable=True)\n",
    "\n",
    "def elmo_vectors(x):\n",
    "  embeddings = elmo(x.tolist(), signature=\"default\", as_dict=True)[\"elmo\"]\n",
    "\n",
    "  with tf.Session() as sess:\n",
    "    sess.run(tf.global_variables_initializer())\n",
    "    sess.run(tf.tables_initializer())\n",
    "    # return average of ELMo features\n",
    "    return sess.run(tf.reduce_mean(embeddings,1))"
   ]
  },
  {
   "cell_type": "raw",
   "metadata": {},
   "source": [
    "You might run out of computational resources (memory) if you use the above function to extract embeddings for the entire text in one go. As a workaround, split both train and test set into batches of 100 samples each. Then, pass these batches sequentially to the function elmo_vectors().\n",
    "I will keep these batches in a list:"
   ]
  },
  {
   "cell_type": "code",
   "execution_count": null,
   "metadata": {},
   "outputs": [],
   "source": [
    "X = np.zeros(1024)\n",
    "\n",
    "for i in range(0, train_df.shape[0], 100):\n",
    "    #np.save('embeddings/'+str(i), elmo_vectors(train_df['clean_text'].iloc[i:i+100]))\n",
    "    X = np.vstack([X, elmo_vectors(train_df['clean_text'].iloc[i:i+100])])\n",
    "    print (i)\n",
    "    \n",
    "# path = os.path.join(os.path.join(os.getcwd(), 'embeddings'), '*.npy')\n",
    "# files=glob.glob(path)   \n",
    "# for file in files: \n",
    "#     X = np.vstack([X, np.load(file)])"
   ]
  },
  {
   "cell_type": "code",
   "execution_count": null,
   "metadata": {},
   "outputs": [],
   "source": [
    "print (X.shape)\n",
    "X = X[1:]\n",
    "\n",
    "from sklearn.preprocessing import LabelEncoder\n",
    "lbl = LabelEncoder()\n",
    "Y = lbl.fit_transform(train_df['Complaint-Status'])"
   ]
  },
  {
   "cell_type": "markdown",
   "metadata": {},
   "source": [
    "# Performing Cross-Validation With 3 Folds"
   ]
  },
  {
   "cell_type": "code",
   "execution_count": 3,
   "metadata": {},
   "outputs": [
    {
     "name": "stdout",
     "output_type": "stream",
     "text": [
      "0.8841595656029829\n",
      "0.8843937342873719\n",
      "0.8844621513944223\n",
      "0.8843384837615923\n"
     ]
    }
   ],
   "source": [
    "import xgboost as XGB\n",
    "from sklearn.model_selection import StratifiedKFold\n",
    "from sklearn.metrics import f1_score\n",
    "\n",
    "model = XGB.XGBClassifier()\n",
    "\n",
    "n_splits = 3\n",
    "score = 0\n",
    "skfolds = StratifiedKFold(n_splits=n_splits, random_state=42)\n",
    "\n",
    "for train_index, test_index in skfolds.split(X, Y):\n",
    "    X_train_folds = X[train_index]\n",
    "    y_train_folds = Y[train_index]\n",
    "    X_test_fold = X[test_index]\n",
    "    y_test_fold = Y[test_index]\n",
    "    \n",
    "    model.fit(X_train_folds, y_train_folds)\n",
    "    y_pred = model.predict(X_test_fold)\n",
    "    local_score = f1_score(y_pred, y_test_fold, average='weighted')\n",
    "    print (local_score)\n",
    "    score += local_score\n",
    "\n",
    "print (score/n_splits)"
   ]
  },
  {
   "cell_type": "code",
   "execution_count": null,
   "metadata": {},
   "outputs": [],
   "source": []
  }
 ],
 "metadata": {
  "colab": {
   "name": "Untitled1.ipynb",
   "provenance": [],
   "version": "0.3.2"
  },
  "kernelspec": {
   "display_name": "Python 3",
   "language": "python",
   "name": "python3"
  },
  "language_info": {
   "codemirror_mode": {
    "name": "ipython",
    "version": 3
   },
   "file_extension": ".py",
   "mimetype": "text/x-python",
   "name": "python",
   "nbconvert_exporter": "python",
   "pygments_lexer": "ipython3",
   "version": "3.7.3"
  }
 },
 "nbformat": 4,
 "nbformat_minor": 1
}
